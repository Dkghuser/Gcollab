{
  "nbformat": 4,
  "nbformat_minor": 0,
  "metadata": {
    "colab": {
      "provenance": [],
      "authorship_tag": "ABX9TyNdRap+/rBsM4O+ygvL7pzj",
      "include_colab_link": true
    },
    "kernelspec": {
      "name": "python3",
      "display_name": "Python 3"
    },
    "language_info": {
      "name": "python"
    }
  },
  "cells": [
    {
      "cell_type": "markdown",
      "metadata": {
        "id": "view-in-github",
        "colab_type": "text"
      },
      "source": [
        "<a href=\"https://colab.research.google.com/github/Dkghuser/Gcollab/blob/main/Pemutations%20of%20list-Python.ipynb\" target=\"_parent\"><img src=\"https://colab.research.google.com/assets/colab-badge.svg\" alt=\"Open In Colab\"/></a>"
      ]
    },
    {
      "cell_type": "code",
      "execution_count": 1,
      "metadata": {
        "colab": {
          "base_uri": "https://localhost:8080/"
        },
        "id": "vf400JSFQguN",
        "outputId": "1a5cb12c-f35e-4047-8058-69d92beff7dd"
      },
      "outputs": [
        {
          "output_type": "stream",
          "name": "stdout",
          "text": [
            "Original Cofllection:  [1, 2, 3]\n",
            "Collection of distinct numbers:\n",
            " [[1, 2, 3], [2, 3, 1], [3, 1, 2], [2, 1, 3], [1, 3, 2], [3, 2, 1]]\n"
          ]
        }
      ],
      "source": [
        "def permute(nums):\n",
        "  result_perms = [[]]\n",
        "  for n in nums:\n",
        "    new_perms = []\n",
        "    for perm in result_perms:\n",
        "      for i in range(len(perm)+1):\n",
        "        new_perms.append(perm[i:] + [n] + perm[:i])\n",
        "        result_perms = new_perms\n",
        "  return result_perms\n",
        "\n",
        "my_nums = [1,2,3]\n",
        "print(\"My List: \",my_nums)\n",
        "print(\"Possible Permutations of list:\\n\",permute(my_nums))\n"
      ]
    }
  ]
}
