{
  "nbformat": 4,
  "nbformat_minor": 0,
  "metadata": {
    "colab": {
      "provenance": [],
      "include_colab_link": true
    },
    "kernelspec": {
      "name": "python3",
      "display_name": "Python 3"
    },
    "language_info": {
      "name": "python"
    }
  },
  "cells": [
    {
      "cell_type": "markdown",
      "metadata": {
        "id": "view-in-github",
        "colab_type": "text"
      },
      "source": [
        "<a href=\"https://colab.research.google.com/github/Dkghuser/Gcollab/blob/main/Deepak_gcd.ipynb\" target=\"_parent\"><img src=\"https://colab.research.google.com/assets/colab-badge.svg\" alt=\"Open In Colab\"/></a>"
      ]
    },
    {
      "cell_type": "code",
      "source": [
        "#To find GCD of 2 no.s (Method 1):\n",
        "def computeGCD (x,y):\n",
        " if x < y:\n",
        "  smaller = x\n",
        " else:\n",
        "  smaller = y\n",
        " for i in range(1, smaller+1):\n",
        "  if(x % i ==0)and(y % i ==0):\n",
        "   gcd = i\n",
        " return gcd\n",
        "num1=int(input(\"Enter first no: \"))\n",
        "num2=int(input(\"Enter second no: \"))\n",
        "print(\"The GCD of \",num1, \"and \", num2, \" is = \", computeGCD(num1, num2))"
      ],
      "metadata": {
        "colab": {
          "base_uri": "https://localhost:8080/"
        },
        "id": "AqEDbVb631Id",
        "outputId": "66635f8a-8139-44d8-9385-c7f5e4a4d0e7"
      },
      "execution_count": 3,
      "outputs": [
        {
          "output_type": "stream",
          "name": "stdout",
          "text": [
            "Enter first no: 266\n",
            "Enter second no: 168\n",
            "The GCD of  266 and  168  is =  14\n"
          ]
        }
      ]
    },
    {
      "cell_type": "code",
      "execution_count": 2,
      "metadata": {
        "colab": {
          "base_uri": "https://localhost:8080/"
        },
        "id": "JLxY01lr6d5X",
        "outputId": "9a1b3f8c-b786-4560-efea-dd64e5c926af"
      },
      "outputs": [
        {
          "output_type": "stream",
          "name": "stdout",
          "text": [
            "enter 1st postv no: 18\n",
            "enter 2nd postv no: 4\n",
            "GCD of two numbers is 2\n"
          ]
        }
      ],
      "source": [
        "#Method 2:\n",
        "m=int(input(\"enter 1st postv no: \"))\n",
        "n=int(input(\"enter 2nd postv no: \"))\n",
        "if m==0:\n",
        "  print(f\"GCD is {n}\")\n",
        "if n==0:\n",
        "  print(f\"GCD is {m}\")\n",
        "while m!=n:\n",
        "  if m>n:\n",
        "   m=m-n\n",
        "  if n>m:\n",
        "   n=n-m\n",
        "print(f\"GCD of two numbers is {m}\")"
      ]
    }
  ]
}