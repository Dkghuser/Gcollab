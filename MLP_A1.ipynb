{
  "nbformat": 4,
  "nbformat_minor": 0,
  "metadata": {
    "colab": {
      "provenance": [],
      "authorship_tag": "ABX9TyOyTj6ar8/sM4D0D7frjjMv",
      "include_colab_link": true
    },
    "kernelspec": {
      "name": "python3",
      "display_name": "Python 3"
    },
    "language_info": {
      "name": "python"
    }
  },
  "cells": [
    {
      "cell_type": "markdown",
      "metadata": {
        "id": "view-in-github",
        "colab_type": "text"
      },
      "source": [
        "<a href=\"https://colab.research.google.com/github/Dkghuser/Gcollab/blob/main/MLP_A1.ipynb\" target=\"_parent\"><img src=\"https://colab.research.google.com/assets/colab-badge.svg\" alt=\"Open In Colab\"/></a>"
      ]
    },
    {
      "cell_type": "code",
      "source": [
        "#1. Simple calculator in python:\n",
        "def add(x, y):\n",
        "    return x + y\n",
        "\n",
        "def subtract(x, y):\n",
        "    return x - y\n",
        "\n",
        "def multiply(x, y):\n",
        "    return x * y\n",
        "\n",
        "def divide(x, y):\n",
        "    if y != 0:\n",
        "        return x / y\n",
        "    else:\n",
        "        return \"Cannot divide by zero\"\n",
        "def exponential(x,y):\n",
        "   return x ** y\n",
        "\n",
        "calculator()\n",
        "\n",
        "def calculator():\n",
        "    print(\"Simple Calculator\\n\")\n",
        "    print(\"1. Add\")\n",
        "    print(\"2. Subtract\")\n",
        "    print(\"3. Multiply\")\n",
        "    print(\"4. Divide\")\n",
        "    print(\"5. Exponential/Power\")\n",
        "\n",
        "    choice = input(\"Enter choice (1/2/3/4/5): \")\n",
        "\n",
        "    if choice in ('1', '2', '3', '4', '5'):\n",
        "        num1 = float(input(\"Enter first number: \"))\n",
        "        num2 = float(input(\"Enter second number: \"))\n",
        "\n",
        "        if choice == '1':\n",
        "            print(f\"{num1} + {num2} = {add(num1, num2)}\")\n",
        "        elif choice == '2':\n",
        "            print(f\"{num1} - {num2} = {subtract(num1, num2)}\")\n",
        "        elif choice == '3':\n",
        "            print(f\"{num1} * {num2} = {multiply(num1, num2)}\")\n",
        "        elif choice == '4':\n",
        "            print(f\"{num1} / {num2} = {divide(num1, num2)}\")\n",
        "        elif choice == '5':\n",
        "            print(f\"{num1} ** {num2} = {exponential(num1, num2)}\")\n",
        "    else:\n",
        "        print(\"Invalid input. Please enter a valid choice!!\")\n",
        "\n"
      ],
      "metadata": {
        "colab": {
          "base_uri": "https://localhost:8080/"
        },
        "id": "mswkyiEsjP8f",
        "outputId": "bb1be81f-8a2c-48b0-a779-1f5e8aabfe91"
      },
      "execution_count": 18,
      "outputs": [
        {
          "output_type": "stream",
          "name": "stdout",
          "text": [
            "Simple Calculator\n",
            "\n",
            "1. Add\n",
            "2. Subtract\n",
            "3. Multiply\n",
            "4. Divide\n",
            "5. Exponential/Power\n",
            "Enter choice (1/2/3/4/5): 1\n",
            "Enter first number: 3.15\n",
            "Enter second number: 5.523\n",
            "3.15 + 5.523 = 8.673\n"
          ]
        }
      ]
    },
    {
      "cell_type": "code",
      "source": [
        "#2. Display first and last colors of list:\n",
        "color_list = [\"Red\", \"Green\", \"White\", \"Black\"]\n",
        "\n",
        "# To Display the first color\n",
        "first_color = color_list[0]\n",
        "print(\"First color:\", first_color)\n",
        "\n",
        "# To Display the last color\n",
        "last_color = color_list[-1]\n",
        "print(\"Last color:\", last_color)\n"
      ],
      "metadata": {
        "colab": {
          "base_uri": "https://localhost:8080/"
        },
        "id": "Ze6Z7Zpesb7_",
        "outputId": "0cfd7f5b-0bf2-48f7-b2f9-282853005105"
      },
      "execution_count": 10,
      "outputs": [
        {
          "output_type": "stream",
          "name": "stdout",
          "text": [
            "First color: Red\n",
            "Last color: Black\n"
          ]
        }
      ]
    },
    {
      "cell_type": "code",
      "source": [
        "#3. Rock, paper, scissors game in python\n",
        "import random\n",
        "\n",
        "def get_user_choice():\n",
        "    user_choice = input(\"Enter 'rock', 'paper', or 'scissors': \").lower()\n",
        "    while user_choice not in ['rock', 'paper', 'scissors']:\n",
        "        print(\"Invalid choice. Please enter 'rock', 'paper', or 'scissors'.\")\n",
        "        user_choice = input(\"Enter 'rock', 'paper', or 'scissors': \").lower()\n",
        "    return user_choice\n",
        "\n",
        "def get_computer_choice():\n",
        "    return random.choice(['rock', 'paper', 'scissors'])\n",
        "\n",
        "#to find the winner ->\n",
        "def determine_the_winner(user_choice, computer_choice):\n",
        "    if user_choice == computer_choice:\n",
        "        return \"It's a tie!\"\n",
        "    elif (user_choice == 'rock' and computer_choice == 'scissors') or \\\n",
        "         (user_choice == 'paper' and computer_choice == 'rock') or \\\n",
        "         (user_choice == 'scissors' and computer_choice == 'paper'):\n",
        "        return \"You win! Congratulations!\"\n",
        "    else:\n",
        "        return \"Computer wins! Better luck nxt time\"\n",
        "\n",
        "def play_game():\n",
        "    print(\"Let's play Rock, Paper, Scissors!\")\n",
        "    user_choice = get_user_choice()\n",
        "    computer_choice = get_computer_choice()\n",
        "    print(f\"You chose {user_choice}. Computer chose {computer_choice}.\")\n",
        "    result = determine_the_winner(user_choice, computer_choice)\n",
        "    print(result)\n",
        "\n",
        "play_game()"
      ],
      "metadata": {
        "colab": {
          "base_uri": "https://localhost:8080/"
        },
        "id": "M0-wF44ftEj-",
        "outputId": "43db4a1c-46bc-4f5f-c220-08e00920f118"
      },
      "execution_count": 11,
      "outputs": [
        {
          "output_type": "stream",
          "name": "stdout",
          "text": [
            "Let's play Rock, Paper, Scissors!\n",
            "Enter 'rock', 'paper', or 'scissors': rock\n",
            "You chose rock. Computer chose scissors.\n",
            "You win! Congratulations!\n"
          ]
        }
      ]
    },
    {
      "cell_type": "code",
      "source": [
        "#4. To show Current date and time:\n",
        "\n",
        "import datetime\n",
        "\n",
        "# for specific(IST) timezone()\n",
        "import pytz\n",
        "\n",
        "# to get current time\n",
        "current_time = datetime.datetime.now(pytz.timezone('Asia/Kolkata'))\n",
        "\n",
        "# to display current time in India\n",
        "print(\"The current time in India is :\", current_time)"
      ],
      "metadata": {
        "colab": {
          "base_uri": "https://localhost:8080/"
        },
        "id": "Ttkb38-LvJiH",
        "outputId": "de465f44-96d4-4f5c-c894-bf74e1f7d8c9"
      },
      "execution_count": 13,
      "outputs": [
        {
          "output_type": "stream",
          "name": "stdout",
          "text": [
            "The current time in India is : 2023-12-24 17:43:39.495987+05:30\n"
          ]
        }
      ]
    },
    {
      "cell_type": "code",
      "execution_count": 14,
      "metadata": {
        "colab": {
          "base_uri": "https://localhost:8080/"
        },
        "id": "vf400JSFQguN",
        "outputId": "2004df37-269d-47f0-acf4-42ca33d863b1"
      },
      "outputs": [
        {
          "output_type": "stream",
          "name": "stdout",
          "text": [
            "My List:  [1, 2, 3]\n",
            "Possible Permutations of list:\n",
            " [[1, 2, 3], [2, 3, 1], [3, 1, 2], [2, 1, 3], [1, 3, 2], [3, 2, 1]]\n"
          ]
        }
      ],
      "source": [
        "#5. To show all possible Permutations of a list in python: (Method 1)\n",
        "def permute(nums):\n",
        "  result_perms = [[]]\n",
        "  for n in nums:\n",
        "    new_perms = []\n",
        "    for perm in result_perms:\n",
        "      for i in range(len(perm)+1):\n",
        "        new_perms.append(perm[i:] + [n] + perm[:i])\n",
        "        result_perms = new_perms\n",
        "  return result_perms\n",
        "\n",
        "my_nums = [1,2,3]\n",
        "print(\"My List: \",my_nums)\n",
        "print(\"Possible Permutations of list:\\n\",permute(my_nums))\n"
      ]
    },
    {
      "cell_type": "code",
      "source": [
        "#5. To show all possible Permutations of a list in python:\n",
        "     #Method 2 (directly by importing modules)\n",
        "from itertools import permutations\n",
        "\n",
        "PYTHON = [''.join(p) for p in permutations('MLP')]\n",
        "\n",
        "print(PYTHON)"
      ],
      "metadata": {
        "colab": {
          "base_uri": "https://localhost:8080/"
        },
        "id": "uZODzm9UwK-I",
        "outputId": "0dcea3da-7e5c-4d2f-cde1-a4f66c1a2275"
      },
      "execution_count": 17,
      "outputs": [
        {
          "output_type": "stream",
          "name": "stdout",
          "text": [
            "['MLP', 'MPL', 'LMP', 'LPM', 'PML', 'PLM']\n"
          ]
        }
      ]
    }
  ]
}