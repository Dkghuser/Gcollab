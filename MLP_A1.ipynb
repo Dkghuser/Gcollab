{
  "nbformat": 4,
  "nbformat_minor": 0,
  "metadata": {
    "colab": {
      "provenance": [],
      "authorship_tag": "ABX9TyO/3CANSDmAu/G14cmAr3TK",
      "include_colab_link": true
    },
    "kernelspec": {
      "name": "python3",
      "display_name": "Python 3"
    },
    "language_info": {
      "name": "python"
    }
  },
  "cells": [
    {
      "cell_type": "markdown",
      "metadata": {
        "id": "view-in-github",
        "colab_type": "text"
      },
      "source": [
        "<a href=\"https://colab.research.google.com/github/Dkghuser/Gcollab/blob/main/MLP_A1.ipynb\" target=\"_parent\"><img src=\"https://colab.research.google.com/assets/colab-badge.svg\" alt=\"Open In Colab\"/></a>"
      ]
    },
    {
      "cell_type": "code",
      "source": [
        "def add(x, y):\n",
        "    return x + y\n",
        "\n",
        "def subtract(x, y):\n",
        "    return x - y\n",
        "\n",
        "def multiply(x, y):\n",
        "    return x * y\n",
        "\n",
        "def divide(x, y):\n",
        "    if y != 0:\n",
        "        return x / y\n",
        "    else:\n",
        "        return \"Cannot divide by zero\"\n",
        "def exponential(x,y):\n",
        "   return x ** y\n",
        "\n",
        "calculator()\n",
        "\n",
        "def calculator():\n",
        "    print(\"Simple Calculator\\n\")\n",
        "    print(\"1. Add\")\n",
        "    print(\"2. Subtract\")\n",
        "    print(\"3. Multiply\")\n",
        "    print(\"4. Divide\")\n",
        "    print(\"5. Exponential/Power\")\n",
        "\n",
        "    choice = input(\"Enter choice (1/2/3/4/5): \")\n",
        "\n",
        "    if choice in ('1', '2', '3', '4', '5'):\n",
        "        num1 = float(input(\"Enter first number: \"))\n",
        "        num2 = float(input(\"Enter second number: \"))\n",
        "\n",
        "        if choice == '1':\n",
        "            print(f\"{num1} + {num2} = {add(num1, num2)}\")\n",
        "        elif choice == '2':\n",
        "            print(f\"{num1} - {num2} = {subtract(num1, num2)}\")\n",
        "        elif choice == '3':\n",
        "            print(f\"{num1} * {num2} = {multiply(num1, num2)}\")\n",
        "        elif choice == '4':\n",
        "            print(f\"{num1} / {num2} = {divide(num1, num2)}\")\n",
        "        elif choice == '5':\n",
        "            print(f\"{num1} ** {num2} = {exponential(num1, num2)}\")\n",
        "    else:\n",
        "        print(\"Invalid input. Please enter a valid choice!!\")\n",
        "\n"
      ],
      "metadata": {
        "colab": {
          "base_uri": "https://localhost:8080/"
        },
        "id": "mswkyiEsjP8f",
        "outputId": "3e8e7c75-0dce-4ae6-b9fc-7e307773399e"
      },
      "execution_count": 9,
      "outputs": [
        {
          "output_type": "stream",
          "name": "stdout",
          "text": [
            "Simple Calculator\n",
            "\n",
            "1. Add\n",
            "2. Subtract\n",
            "3. Multiply\n",
            "4. Divide\n",
            "5. Exponential/Power\n",
            "Enter choice (1/2/3/4/5): 2\n",
            "Enter first number: 3.15\n",
            "Enter second number: 2.08\n",
            "3.15 - 2.08 = 1.0699999999999998\n"
          ]
        }
      ]
    },
    {
      "cell_type": "code",
      "execution_count": null,
      "metadata": {
        "colab": {
          "base_uri": "https://localhost:8080/"
        },
        "id": "vf400JSFQguN",
        "outputId": "6b47068c-9225-4238-a190-bfea367431a9"
      },
      "outputs": [
        {
          "output_type": "stream",
          "name": "stdout",
          "text": [
            "My List:  [1, 2, 3]\n",
            "Possible Permutations of list:\n",
            " [[1, 2, 3], [2, 3, 1], [3, 1, 2], [2, 1, 3], [1, 3, 2], [3, 2, 1]]\n"
          ]
        }
      ],
      "source": [
        "def permute(nums):\n",
        "  result_perms = [[]]\n",
        "  for n in nums:\n",
        "    new_perms = []\n",
        "    for perm in result_perms:\n",
        "      for i in range(len(perm)+1):\n",
        "        new_perms.append(perm[i:] + [n] + perm[:i])\n",
        "        result_perms = new_perms\n",
        "  return result_perms\n",
        "\n",
        "my_nums = [1,2,3]\n",
        "print(\"My List: \",my_nums)\n",
        "print(\"Possible Permutations of list:\\n\",permute(my_nums))\n"
      ]
    }
  ]
}