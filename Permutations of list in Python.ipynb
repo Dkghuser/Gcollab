{
  "nbformat": 4,
  "nbformat_minor": 0,
  "metadata": {
    "colab": {
      "provenance": [],
      "authorship_tag": "ABX9TyMxKy0ZUCkqkwKRs8P+J7hZ",
      "include_colab_link": true
    },
    "kernelspec": {
      "name": "python3",
      "display_name": "Python 3"
    },
    "language_info": {
      "name": "python"
    }
  },
  "cells": [
    {
      "cell_type": "markdown",
      "metadata": {
        "id": "view-in-github",
        "colab_type": "text"
      },
      "source": [
        "<a href=\"https://colab.research.google.com/github/Dkghuser/Gcollab/blob/main/Permutations%20of%20list%20in%20Python.ipynb\" target=\"_parent\"><img src=\"https://colab.research.google.com/assets/colab-badge.svg\" alt=\"Open In Colab\"/></a>"
      ]
    },
    {
      "cell_type": "code",
      "execution_count": 2,
      "metadata": {
        "colab": {
          "base_uri": "https://localhost:8080/"
        },
        "id": "vf400JSFQguN",
        "outputId": "6b47068c-9225-4238-a190-bfea367431a9"
      },
      "outputs": [
        {
          "output_type": "stream",
          "name": "stdout",
          "text": [
            "My List:  [1, 2, 3]\n",
            "Possible Permutations of list:\n",
            " [[1, 2, 3], [2, 3, 1], [3, 1, 2], [2, 1, 3], [1, 3, 2], [3, 2, 1]]\n"
          ]
        }
      ],
      "source": [
        "def permute(nums):\n",
        "  result_perms = [[]]\n",
        "  for n in nums:\n",
        "    new_perms = []\n",
        "    for perm in result_perms:\n",
        "      for i in range(len(perm)+1):\n",
        "        new_perms.append(perm[i:] + [n] + perm[:i])\n",
        "        result_perms = new_perms\n",
        "  return result_perms\n",
        "\n",
        "my_nums = [1,2,3]\n",
        "print(\"My List: \",my_nums)\n",
        "print(\"Possible Permutations of list:\\n\",permute(my_nums))\n"
      ]
    }
  ]
}